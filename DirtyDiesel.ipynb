{
 "cells": [
  {
   "cell_type": "markdown",
   "id": "f9ab8ba6",
   "metadata": {},
   "source": [
    "# Myth Busting\n",
    "# Diesel is a dirty fuel\n",
    "# Ban on Diesel vehicle after 10 years in Delhi Justified?"
   ]
  },
  {
   "cell_type": "code",
   "execution_count": null,
   "id": "17f82a32",
   "metadata": {},
   "outputs": [],
   "source": [
    "import pandas as pd\n",
    "import numpy as np\n",
    "import scipy.stats as stats\n",
    "import statsmodels.api as sm\n",
    "import seaborn as sns\n",
    "import matplotlib.pyplot as plt"
   ]
  },
  {
   "cell_type": "code",
   "execution_count": null,
   "id": "c32cd844",
   "metadata": {},
   "outputs": [],
   "source": [
    "df = pd.read_csv(\"data.csv\")\n",
    "df "
   ]
  },
  {
   "cell_type": "code",
   "execution_count": null,
   "id": "2a214ab8",
   "metadata": {},
   "outputs": [],
   "source": [
    "df.groupby(\"Fuel type\")[\"CO2 emissions (g/km)\"].mean().plot.bar()"
   ]
  },
  {
   "cell_type": "markdown",
   "id": "f1b36fd9",
   "metadata": {},
   "source": [
    "## Finding outliers"
   ]
  },
  {
   "cell_type": "code",
   "execution_count": null,
   "id": "7f3d8354",
   "metadata": {},
   "outputs": [],
   "source": [
    "sns.boxplot(df[\"CO2 emissions (g/km)\"])"
   ]
  },
  {
   "cell_type": "code",
   "execution_count": null,
   "id": "f1599928",
   "metadata": {},
   "outputs": [],
   "source": [
    "co2 = df[\"CO2 emissions (g/km)\"]"
   ]
  },
  {
   "cell_type": "markdown",
   "id": "28650b1e",
   "metadata": {},
   "source": [
    "## Five Number Summary"
   ]
  },
  {
   "cell_type": "code",
   "execution_count": null,
   "id": "b25b9e33",
   "metadata": {},
   "outputs": [],
   "source": [
    "minimum = min(co2)\n",
    "maximum = max(co2)\n",
    "q1 = np.percentile(co2,25)\n",
    "q3 = np.percentile(co2,75)\n",
    "median = np.percentile(co2,50)\n",
    "minimum,q1,median,q3,maximum"
   ]
  },
  {
   "cell_type": "code",
   "execution_count": null,
   "id": "3e4d911f",
   "metadata": {},
   "outputs": [],
   "source": [
    "q1 = np.percentile(co2,25)\n",
    "q3 = np.percentile(co2,75)\n",
    "iqr = q3 - q1\n",
    "upper_bound = q3 + (1.5 * iqr)\n",
    "lower_bound = q1 - (1.5 * iqr)\n",
    "q1,q3, iqr, lower_bound, upper_bound"
   ]
  },
  {
   "cell_type": "code",
   "execution_count": null,
   "id": "bb8f322d",
   "metadata": {},
   "outputs": [],
   "source": [
    "outliers = df[df[\"CO2 emissions (g/km)\"]>upper_bound]\n",
    "outliers"
   ]
  },
  {
   "cell_type": "code",
   "execution_count": null,
   "id": "d40e25bf",
   "metadata": {},
   "outputs": [],
   "source": [
    "outliers[\"Fuel type\"].value_counts()"
   ]
  },
  {
   "cell_type": "markdown",
   "id": "6d3a91ed",
   "metadata": {},
   "source": [
    "## Removing Outliers"
   ]
  },
  {
   "cell_type": "code",
   "execution_count": null,
   "id": "794465c7",
   "metadata": {},
   "outputs": [],
   "source": [
    "_df = df[(df[\"CO2 emissions (g/km)\"]<upper_bound) & (df[\"Fuel type\"]!=\"N\")]\n",
    "_df"
   ]
  },
  {
   "cell_type": "code",
   "execution_count": null,
   "id": "6fe5c56c",
   "metadata": {},
   "outputs": [],
   "source": [
    "co2 = _df.groupby(\"Fuel type\")[\"CO2 emissions (g/km)\"]\n",
    "co2.mean() # g/km"
   ]
  },
  {
   "cell_type": "code",
   "execution_count": null,
   "id": "0bdcd7c9",
   "metadata": {},
   "outputs": [],
   "source": [
    "co2.mean().plot.bar()"
   ]
  },
  {
   "cell_type": "code",
   "execution_count": null,
   "id": "4b97f857",
   "metadata": {},
   "outputs": [],
   "source": [
    "diesel = _df[_df['Fuel type'] == 'D']['CO2 emissions (g/km)']\n",
    "petrol = _df[_df['Fuel type'].isin(['X', 'Z'])]['CO2 emissions (g/km)']\n",
    "ethnol = _df[_df['Fuel type'] == 'E']['CO2 emissions (g/km)']"
   ]
  },
  {
   "cell_type": "code",
   "execution_count": null,
   "id": "85ca60a9",
   "metadata": {},
   "outputs": [],
   "source": [
    "diesel.count(), petrol.count(), ethnol.count()"
   ]
  },
  {
   "cell_type": "markdown",
   "id": "81043dfe",
   "metadata": {},
   "source": [
    "## T test "
   ]
  },
  {
   "cell_type": "markdown",
   "id": "9c0f8c73",
   "metadata": {},
   "source": [
    "### Null Hypothesis: Diesel is more polluting than Petrol"
   ]
  },
  {
   "cell_type": "code",
   "execution_count": null,
   "id": "f44270f2",
   "metadata": {},
   "outputs": [],
   "source": [
    "t_stat, p_value = stats.ttest_ind(diesel, petrol, equal_var=False, alternative='greater')\n",
    "print(\"t stat:\",t_stat)\n",
    "print(\"p value:\", p_value)\n",
    "if p_value < 0.05:\n",
    "    print(\"Reject the null hypothesis: Diesel is more polluting than Petrol.\")\n",
    "else:\n",
    "    print(\"Fail to reject the null hypothesis: No significant difference.\")"
   ]
  },
  {
   "cell_type": "markdown",
   "id": "e11e398a",
   "metadata": {},
   "source": [
    "### Null Hypothesis: Diesel is more polluting than E85"
   ]
  },
  {
   "cell_type": "code",
   "execution_count": null,
   "id": "f580982c",
   "metadata": {},
   "outputs": [],
   "source": [
    "t_stat, p_value = stats.ttest_ind(diesel, ethnol, equal_var=False, alternative='greater')\n",
    "print(\"t stat:\",t_stat)\n",
    "print(\"p value:\", p_value)\n",
    "if p_value < 0.05:\n",
    "    print(\"Reject the null hypothesis: Diesel is more polluting than E85.\")\n",
    "else:\n",
    "    print(\"Fail to reject the null hypothesis: No significant difference.\")"
   ]
  },
  {
   "cell_type": "markdown",
   "id": "8657e6ab",
   "metadata": {},
   "source": [
    "### Null Hypothesis: E85 is more polluting than Petrol"
   ]
  },
  {
   "cell_type": "code",
   "execution_count": null,
   "id": "09346f0a",
   "metadata": {},
   "outputs": [],
   "source": [
    "t_stat, p_value = stats.ttest_ind(ethnol, petrol, equal_var=False, alternative='greater')\n",
    "\n",
    "print(\"t stat:\",t_stat)\n",
    "print(\"p value:\", p_value)\n",
    "\n",
    "if p_value < 0.05:\n",
    "    print(\"Reject the null hypothesis: E85 is more polluting than Petrol.\")\n",
    "else:\n",
    "    print(\"Fail to reject the null hypothesis: No significant difference.\")"
   ]
  },
  {
   "cell_type": "markdown",
   "id": "0efe8d8d",
   "metadata": {},
   "source": [
    "## Mileage (Ignored Factor)"
   ]
  },
  {
   "cell_type": "code",
   "execution_count": null,
   "id": "f3dc3919",
   "metadata": {},
   "outputs": [],
   "source": [
    "consumption = _df.groupby(\"Fuel type\")[\"Combined (L/100 km)\"]"
   ]
  },
  {
   "cell_type": "code",
   "execution_count": null,
   "id": "e757cfaf",
   "metadata": {},
   "outputs": [],
   "source": [
    "mileage = 1/consumption.mean()*100\n",
    "mileage # km/L"
   ]
  },
  {
   "cell_type": "code",
   "execution_count": null,
   "id": "6cb4328f",
   "metadata": {},
   "outputs": [],
   "source": [
    "mileage.plot.bar()"
   ]
  },
  {
   "cell_type": "markdown",
   "id": "6790c057",
   "metadata": {},
   "source": [
    "## Emmissions"
   ]
  },
  {
   "cell_type": "code",
   "execution_count": null,
   "id": "5b0585ac",
   "metadata": {},
   "outputs": [],
   "source": [
    "emissions = co2.mean()*mileage/1000\n",
    "emissions # kg/L"
   ]
  },
  {
   "cell_type": "code",
   "execution_count": null,
   "id": "1a969b6d",
   "metadata": {},
   "outputs": [],
   "source": [
    "emissions.plot.bar()"
   ]
  },
  {
   "cell_type": "markdown",
   "id": "8462b821",
   "metadata": {},
   "source": [
    "# Conclusion "
   ]
  },
  {
   "cell_type": "markdown",
   "id": "12ad5867",
   "metadata": {},
   "source": [
    "### Diesel is not more polluting than Petrol \n",
    "### Ethanol is not less polluting than Petrol"
   ]
  },
  {
   "cell_type": "markdown",
   "id": "87d9ef60",
   "metadata": {},
   "source": [
    "### Should we be banning Diesel vehicles - NO"
   ]
  }
 ],
 "metadata": {
  "kernelspec": {
   "display_name": ".venv",
   "language": "python",
   "name": "python3"
  },
  "language_info": {
   "codemirror_mode": {
    "name": "ipython",
    "version": 3
   },
   "file_extension": ".py",
   "mimetype": "text/x-python",
   "name": "python",
   "nbconvert_exporter": "python",
   "pygments_lexer": "ipython3",
   "version": "3.13.5"
  }
 },
 "nbformat": 4,
 "nbformat_minor": 5
}
